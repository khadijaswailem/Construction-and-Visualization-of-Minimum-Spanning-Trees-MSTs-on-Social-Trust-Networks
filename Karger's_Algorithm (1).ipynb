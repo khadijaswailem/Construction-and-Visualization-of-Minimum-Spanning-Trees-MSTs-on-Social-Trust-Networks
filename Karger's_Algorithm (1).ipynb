{
  "cells": [
    {
      "cell_type": "markdown",
      "metadata": {
        "id": "S6gkbseK6x_a"
      },
      "source": [
        "# Karger's Algorithm on the 5"
      ]
    },
    {
      "cell_type": "code",
      "execution_count": null,
      "metadata": {
        "id": "rPDP8F6itm7N"
      },
      "outputs": [],
      "source": [
        "import pandas as pd\n",
        "import networkx as nx\n",
        "import random\n",
        "import copy\n",
        "import time\n",
        "import matplotlib.pyplot as plt\n",
        "import matplotlib.animation as animation\n",
        "from IPython.display import HTML\n",
        "from mpl_toolkits.mplot3d import Axes3D"
      ]
    },
    {
      "cell_type": "code",
      "execution_count": null,
      "metadata": {
        "id": "fOvsiSFytwyZ"
      },
      "outputs": [],
      "source": [
        "def load_graph_from_csv(file_path):\n",
        "    df = pd.read_csv(file_path)\n",
        "    G = nx.Graph()\n",
        "    for _, row in df.iterrows():\n",
        "        u, v, w = row['source'], row['target'], float(row['weight'])\n",
        "        G.add_edge(u, v, weight=w)\n",
        "    return G"
      ]
    },
    {
      "cell_type": "code",
      "source": [
        "def load_graph_from_csv_no_header(file_path):\n",
        "    df = pd.read_csv(file_path, header=None)\n",
        "    G = nx.Graph()\n",
        "    for _, row in df.iterrows():\n",
        "        u = row[0]\n",
        "        v = row[1]\n",
        "        try:\n",
        "            w = float(row[2])\n",
        "            if w == 0:\n",
        "                w = 1.0\n",
        "        except:\n",
        "            w = 1.0\n",
        "        G.add_edge(u, v, weight=w)\n",
        "    return G"
      ],
      "metadata": {
        "id": "tlI-vcuJvBxT"
      },
      "execution_count": null,
      "outputs": []
    },
    {
      "cell_type": "code",
      "source": [
        "def karger_min_cut(G):\n",
        "    graph = copy.deepcopy(G)\n",
        "\n",
        "    while len(graph.nodes) > 2:\n",
        "        u, v = random.choice(list(graph.edges()))\n",
        "        for neighbor in list(graph.neighbors(v)):\n",
        "            if neighbor != u:\n",
        "                # Access weight from the contracted graph\n",
        "                weight = graph[v][neighbor]['weight']\n",
        "                graph.add_edge(u, neighbor, weight=weight)\n",
        "        graph.remove_node(v)\n",
        "        graph.remove_edges_from(nx.selfloop_edges(graph))\n",
        "\n",
        "    return graph.size(weight='weight')"
      ],
      "metadata": {
        "id": "CZhYoo2UzhdV"
      },
      "execution_count": null,
      "outputs": []
    },
    {
      "cell_type": "code",
      "execution_count": null,
      "metadata": {
        "id": "_r2sQPL9tzlQ"
      },
      "outputs": [],
      "source": [
        "def karger_with_visualization(G, capture_every=10):\n",
        "    graph = copy.deepcopy(G)\n",
        "    steps = []\n",
        "    step_num = 0\n",
        "\n",
        "    while len(graph.nodes) > 2:\n",
        "        u, v = random.choice(list(graph.edges()))\n",
        "\n",
        "        if step_num % capture_every == 0:\n",
        "            steps.append((copy.deepcopy(graph), [(u, v)]))\n",
        "\n",
        "        for neighbor in list(graph.neighbors(v)):\n",
        "            if neighbor != u:\n",
        "                # Access weight from the contracted graph\n",
        "                weight = graph[v][neighbor]['weight']\n",
        "                graph.add_edge(u, neighbor, weight=weight)\n",
        "\n",
        "        graph.remove_node(v)\n",
        "        graph.remove_edges_from(nx.selfloop_edges(graph))\n",
        "        step_num += 1\n",
        "\n",
        "    steps.append((graph, []))\n",
        "    return graph, steps"
      ]
    },
    {
      "cell_type": "code",
      "execution_count": null,
      "metadata": {
        "id": "t-9N2tqqt2um"
      },
      "outputs": [],
      "source": [
        "def run_karger_repeatedly(graph, trials):\n",
        "    min_cut = float('inf')\n",
        "    best_trial = -1\n",
        "    start_time = time.time()\n",
        "\n",
        "    for i in range(trials):\n",
        "        cut_value, _ = karger_min_cut(graph)  # Get only the cut value\n",
        "        if cut_value < min_cut:\n",
        "            min_cut = cut_value\n",
        "            best_trial = i\n",
        "\n",
        "    end_time = time.time()\n",
        "    return {\n",
        "        'min_cut': min_cut,\n",
        "        'best_trial': best_trial,\n",
        "        'execution_time': end_time - start_time\n",
        "    }"
      ]
    },
    {
      "cell_type": "markdown",
      "metadata": {
        "id": "xt3KT2H4Zsm3"
      },
      "source": [
        "visualizing the graph on a sample (because dataset is too large)"
      ]
    },
    {
      "cell_type": "code",
      "source": [
        "def get_sampled_connected_subgraph(G, sample_size):\n",
        "    # Pick the first N nodes\n",
        "    sample_nodes = list(G.nodes)[:sample_size]\n",
        "    H = G.subgraph(sample_nodes).copy()\n",
        "\n",
        "    # Ensure the sample is connected\n",
        "    if not nx.is_connected(H):\n",
        "        H = H.subgraph(max(nx.connected_components(H), key=len)).copy()\n",
        "\n",
        "    return H"
      ],
      "metadata": {
        "id": "9VSG-29Ozyy7"
      },
      "execution_count": null,
      "outputs": []
    },
    {
      "cell_type": "code",
      "execution_count": null,
      "metadata": {
        "id": "TKwN0B-mZpy7"
      },
      "outputs": [],
      "source": [
        "def visualize_graph(G, title=\"Graph\", contracted_edges=[]):\n",
        "    pos = nx.spring_layout(G, seed=42)\n",
        "\n",
        "    plt.figure(figsize=(10, 7))\n",
        "    nx.draw(G, pos, node_color='lightblue', with_labels=False, node_size=30, edge_color='gray')\n",
        "\n",
        "    if contracted_edges:\n",
        "        nx.draw_networkx_edges(G, pos, edgelist=contracted_edges, edge_color='red', width=2)\n",
        "\n",
        "    plt.title(title)\n",
        "    plt.show()\n"
      ]
    },
    {
      "cell_type": "code",
      "execution_count": null,
      "metadata": {
        "id": "oCXRIxd5aGHJ"
      },
      "outputs": [],
      "source": [
        "def show_contraction_steps(steps):\n",
        "    for i, (G_step, contracted) in enumerate(steps):\n",
        "        visualize_graph(G_step, title=f\"Step {i+1}\", contracted_edges=contracted)"
      ]
    },
    {
      "cell_type": "code",
      "execution_count": null,
      "metadata": {
        "id": "JKFilW1naL9r"
      },
      "outputs": [],
      "source": [
        "def animate_contractions(steps):\n",
        "    fig, ax = plt.subplots(figsize=(8, 6))\n",
        "\n",
        "    def update(i):\n",
        "        ax.clear()\n",
        "        G_step, contracted = steps[i]\n",
        "        pos = nx.spring_layout(G_step, seed=42)\n",
        "        nx.draw(G_step, pos, node_color='skyblue', node_size=60, edge_color='gray', ax=ax, with_labels=False)\n",
        "        if contracted:\n",
        "            nx.draw_networkx_edges(G_step, pos, edgelist=contracted, edge_color='red', width=2)\n",
        "        ax.set_title(f\"Step {i+1}\")\n",
        "        ax.axis('off')\n",
        "\n",
        "    ani = animation.FuncAnimation(fig, update, frames=len(steps), interval=1000, repeat=False)\n",
        "    return ani"
      ]
    },
    {
      "cell_type": "markdown",
      "metadata": {
        "id": "IOr7ImNt64H0"
      },
      "source": [
        "## soc-sign-bitcoinalpha\n",
        "\n",
        "\n",
        "*   3,783 nodes\n",
        "*   24,186 edges\n",
        "\n"
      ]
    },
    {
      "cell_type": "code",
      "source": [
        "file_path = \"soc-sign-bitcoinalpha_cleaned.csv\"\n",
        "G = load_graph_from_csv(file_path)\n",
        "\n",
        "# Ensure connected\n",
        "if not nx.is_connected(G):\n",
        "    G = G.subgraph(max(nx.connected_components(G), key=len)).copy()\n",
        "\n",
        "# Run with 1 trial\n",
        "start_time = time.time()\n",
        "min_cut_value = karger_min_cut(G)\n",
        "end_time = time.time()\n",
        "runtime1 = end_time - start_time\n",
        "\n",
        "# Output\n",
        "print(f\" Number of Nodes in Connected Graph: {G.number_of_nodes()}\")\n",
        "print(f\" Number of Edges  in Connected Graph: {G.number_of_edges()}\")\n",
        "print(f\"Min-Cut Value: {min_cut_value}\")\n",
        "print(f\"Runtime: {runtime1:.2f} seconds\")"
      ],
      "metadata": {
        "id": "lvKht8ipzoa5"
      },
      "execution_count": null,
      "outputs": []
    },
    {
      "cell_type": "markdown",
      "source": [
        "visualizing the graph"
      ],
      "metadata": {
        "id": "7AfZkLkiPhJ1"
      }
    },
    {
      "cell_type": "code",
      "source": [
        "visualize_graph(G, title=\"Visualization of BitcoinAlpha (connected only)\")"
      ],
      "metadata": {
        "id": "QX87-wNwT36W"
      },
      "execution_count": null,
      "outputs": []
    },
    {
      "cell_type": "markdown",
      "source": [
        "taking a sample and creating visualization (video)"
      ],
      "metadata": {
        "id": "MZ5ur83DPluh"
      }
    },
    {
      "cell_type": "code",
      "execution_count": null,
      "metadata": {
        "id": "ezlaKwqncY-A"
      },
      "outputs": [],
      "source": [
        "# Create the sampled graph\n",
        "sampled_G = get_sampled_connected_subgraph(G, sample_size=500)\n",
        "\n",
        "# Run Karger and capture visual steps\n",
        "final_sample_graph, visual_steps = karger_with_visualization(sampled_G, capture_every=10)\n",
        "\n",
        "# Show the contraction steps\n",
        "show_contraction_steps(visual_steps)"
      ]
    },
    {
      "cell_type": "code",
      "source": [
        "ani = animate_contractions(visual_steps)\n",
        "#commented this to minimize file size\n",
        "#ani.save(\"karger_contraction_video.mp4\", writer='ffmpeg')"
      ],
      "metadata": {
        "id": "nQFvVgv_r_d0"
      },
      "execution_count": null,
      "outputs": []
    },
    {
      "cell_type": "markdown",
      "metadata": {
        "id": "xHZTRham7zLT"
      },
      "source": [
        "## soc-sign-bitcoinotc\n",
        "\n",
        "* 5,881 nodes\n",
        "* 35,592 edges"
      ]
    },
    {
      "cell_type": "code",
      "execution_count": null,
      "metadata": {
        "id": "uHxXlBnG7-SB"
      },
      "outputs": [],
      "source": [
        "from typing_extensions import runtime\n",
        "file_path = \"soc-sign-bitcoinotc_cleaned.csv\"\n",
        "G2 = load_graph_from_csv(file_path)\n",
        "\n",
        "# Ensure connected\n",
        "if not nx.is_connected(G2):\n",
        "    G2 = G2.subgraph(max(nx.connected_components(G2), key=len)).copy()\n",
        "\n",
        "# Run with 1 trial\n",
        "start_time = time.time()\n",
        "min_cut_value = karger_min_cut(G2)\n",
        "end_time = time.time()\n",
        "runtime2 = end_time - start_time\n",
        "\n",
        "# Output\n",
        "print(f\" Number of Nodes in Connected Graph: {G2.number_of_nodes()}\")\n",
        "print(f\" Number of Edges  in Connected Graph: {G2.number_of_edges()}\")\n",
        "print(f\"Min-Cut Value: {min_cut_value}\")\n",
        "print(f\"Runtime: {runtime2:.2f} seconds\")"
      ]
    },
    {
      "cell_type": "markdown",
      "source": [
        "visualizing the graph"
      ],
      "metadata": {
        "id": "7OdvmJoFPt-Y"
      }
    },
    {
      "cell_type": "code",
      "source": [
        "visualize_graph(G2, title=\"Visualization of BitcoinOTC (connected only)\")"
      ],
      "metadata": {
        "id": "Fr0_dWdhUGoj"
      },
      "execution_count": null,
      "outputs": []
    },
    {
      "cell_type": "markdown",
      "source": [
        "taking a sample and creating a visualization (video)"
      ],
      "metadata": {
        "id": "0xGxUrfcPx6v"
      }
    },
    {
      "cell_type": "code",
      "source": [
        "# Create the sampled graph\n",
        "sampled_G2 = get_sampled_connected_subgraph(G2, sample_size=500)\n",
        "\n",
        "# Run Karger and capture visual steps\n",
        "final_sample_graph2, visual_steps2 = karger_with_visualization(sampled_G2, capture_every=10)\n",
        "\n",
        "# Show the contraction steps\n",
        "show_contraction_steps(visual_steps2)"
      ],
      "metadata": {
        "id": "YvJyhEe0s4R_"
      },
      "execution_count": null,
      "outputs": []
    },
    {
      "cell_type": "code",
      "source": [
        "ani2 = animate_contractions(visual_steps2)\n",
        "#ani2.save(\"karger_contraction_bitcoinotc_video.mp4\", writer='ffmpeg')"
      ],
      "metadata": {
        "id": "gjuomZ_7s9iI"
      },
      "execution_count": null,
      "outputs": []
    },
    {
      "cell_type": "markdown",
      "metadata": {
        "id": "qPVR1VG57CYM"
      },
      "source": [
        "## soc-advogato\n",
        "\n",
        "\n",
        "*   6,541 nodes\n",
        "*   51,127 edges\n",
        "\n"
      ]
    },
    {
      "cell_type": "code",
      "execution_count": null,
      "metadata": {
        "id": "-dqPETSu1chD"
      },
      "outputs": [],
      "source": [
        "file_path = 'soc-advogato_cleaned.csv'\n",
        "G3 = load_graph_from_csv_no_header(file_path)\n",
        "\n",
        "# Ensure connected\n",
        "if not nx.is_connected(G3):\n",
        "    G3 = G3.subgraph(max(nx.connected_components(G3), key=len)).copy()\n",
        "\n",
        "# Run with 1 trial\n",
        "start_time = time.time()\n",
        "min_cut_value = karger_min_cut(G3)\n",
        "end_time = time.time()\n",
        "runtime3 = end_time - start_time\n",
        "\n",
        "# Output\n",
        "print(f\" Number of Nodes in Connected Graph: {G3.number_of_nodes()}\")\n",
        "print(f\" Number of Edges  in Connected Graph: {G3.number_of_edges()}\")\n",
        "print(f\"Min-Cut Value: {min_cut_value}\")\n",
        "print(f\"Runtime: {runtime3:.2f} seconds\")"
      ]
    },
    {
      "cell_type": "markdown",
      "source": [
        "visualizing the graoh"
      ],
      "metadata": {
        "id": "shniKbPXP45n"
      }
    },
    {
      "cell_type": "code",
      "source": [
        "visualize_graph(G3, title=\"Visualization of Advogato (connected only)\")"
      ],
      "metadata": {
        "id": "A8yfNdB6iHKb"
      },
      "execution_count": null,
      "outputs": []
    },
    {
      "cell_type": "markdown",
      "source": [
        "taking a sample and creating a visualization (video)"
      ],
      "metadata": {
        "id": "2S-S8hn7QEQO"
      }
    },
    {
      "cell_type": "code",
      "source": [
        "# Create the sampled graph\n",
        "sampled_G3 = get_sampled_connected_subgraph(G3, sample_size=500)\n",
        "\n",
        "# Run Karger and capture visual steps\n",
        "final_sample_graph3, visual_steps3 = karger_with_visualization(sampled_G3, capture_every=10)\n",
        "\n",
        "# Show the contraction steps\n",
        "show_contraction_steps(visual_steps3)"
      ],
      "metadata": {
        "id": "xqxhIKUtte4u"
      },
      "execution_count": null,
      "outputs": []
    },
    {
      "cell_type": "code",
      "source": [
        "ani3 = animate_contractions(visual_steps3)\n",
        "#ani3.save(\"karger_contraction_advogato_video.mp4\", writer='ffmpeg')"
      ],
      "metadata": {
        "id": "KH4PJepNtmp1"
      },
      "execution_count": null,
      "outputs": []
    },
    {
      "cell_type": "markdown",
      "metadata": {
        "id": "No6RAxDG7ufB"
      },
      "source": [
        "## soc-epinions\n",
        "* 75,879 nodes\n",
        "* 508,837 edges"
      ]
    },
    {
      "cell_type": "code",
      "execution_count": null,
      "metadata": {
        "id": "KF8FyJvZ7vDU"
      },
      "outputs": [],
      "source": [
        "file_path = 'soc-epinions_cleaned.csv'\n",
        "G4 = load_graph_from_csv(file_path)\n",
        "\n",
        "# Ensure connected\n",
        "if not nx.is_connected(G4):\n",
        "    G4 = G4.subgraph(max(nx.connected_components(G4), key=len)).copy()\n",
        "\n",
        "# Run with 1 trial\n",
        "start_time = time.time()\n",
        "min_cut_value = karger_min_cut(G4)\n",
        "end_time = time.time()\n",
        "runtime4 = end_time - start_time\n",
        "\n",
        "# Output\n",
        "print(f\" Number of Nodes in Connected Graph: {G4.number_of_nodes()}\")\n",
        "print(f\" Number of Edges  in Connected Graph: {G4.number_of_edges()}\")\n",
        "print(f\"Min-Cut Value: {min_cut_value}\")\n",
        "print(f\"Runtime: {runtime4:.2f} seconds\")"
      ]
    },
    {
      "cell_type": "markdown",
      "source": [
        "taking a sample and creating a visualization (video)"
      ],
      "metadata": {
        "id": "ndu8CDj3QMRR"
      }
    },
    {
      "cell_type": "code",
      "source": [
        "# Create the sampled graph\n",
        "sampled_G4 = get_sampled_connected_subgraph(G4, sample_size=500)\n",
        "\n",
        "# Run Karger and capture visual steps\n",
        "final_sample_graph4, visual_steps4 = karger_with_visualization(sampled_G4, capture_every=10)\n",
        "\n",
        "# Show the contraction steps\n",
        "show_contraction_steps(visual_steps4)"
      ],
      "metadata": {
        "id": "ErUAppsPtvfd"
      },
      "execution_count": null,
      "outputs": []
    },
    {
      "cell_type": "code",
      "source": [
        "ani4 = animate_contractions(visual_steps4)\n",
        "#ani4.save(\"karger_contraction_epinions_video.mp4\", writer='ffmpeg')"
      ],
      "metadata": {
        "id": "v0uZgf96tvWE"
      },
      "execution_count": null,
      "outputs": []
    },
    {
      "cell_type": "markdown",
      "metadata": {
        "id": "9A-CIcIp83Ot"
      },
      "source": [
        "## soc-LiveMocha\n",
        "* 104,103 nodes\n",
        "* 2,193,083 edges"
      ]
    },
    {
      "cell_type": "markdown",
      "source": [
        "- tried executing the algorithm on the full dataset but it took 6 hours only to crash at the end\n",
        "- second attempt to take only 10k nodes"
      ],
      "metadata": {
        "id": "pYd8R_S5M3Cw"
      }
    },
    {
      "cell_type": "code",
      "source": [
        "file_path = 'soc-livemocha_cleaned.csv'\n",
        "G5 = load_graph_from_csv(file_path)\n",
        "\n",
        "# Sort nodes by degree and take top 10k\n",
        "degrees = sorted(G.degree, key=lambda x: x[1], reverse=True)\n",
        "top_nodes = [node for node, deg in degrees[:10000]]\n",
        "G10k = G.subgraph(top_nodes).copy()\n",
        "\n",
        "# Ensure it's connected\n",
        "if not nx.is_connected(G10k):\n",
        "    G10k = G10k.subgraph(max(nx.connected_components(G10k), key=len)).copy()\n",
        "\n",
        "print(f\"Using top 10k node subgraph: {G10k.number_of_nodes()} nodes, {G10k.number_of_edges()} edges\")\n",
        "\n",
        "start_time = time.time()\n",
        "min_cut_value = karger_min_cut(G10k)\n",
        "end_time = time.time()\n",
        "runtime5 = end_time - start_time\n",
        "\n",
        "# Output\n",
        "\n",
        "print(f\"Min-Cut (LiveMocha 10k nodes): {min_cut_value}\")\n",
        "print(f\"Runtime: {runtime5:.2f} seconds\")"
      ],
      "metadata": {
        "id": "ek0IcC0pMrTM"
      },
      "execution_count": null,
      "outputs": []
    },
    {
      "cell_type": "markdown",
      "source": [
        "visualization on sample 500"
      ],
      "metadata": {
        "id": "f7Qej8F-N7wO"
      }
    },
    {
      "cell_type": "code",
      "source": [
        "# Create the sampled graph\n",
        "sampled_G5 = get_sampled_connected_subgraph(G5, sample_size=500)\n",
        "\n",
        "# Run Karger and capture visual steps\n",
        "final_sample_graph5, visual_steps5 = karger_with_visualization(sampled_G5, capture_every=10)\n",
        "\n",
        "# Show the contraction steps\n",
        "show_contraction_steps(visual_steps5)"
      ],
      "metadata": {
        "id": "ume5isOmuO8s"
      },
      "execution_count": null,
      "outputs": []
    },
    {
      "cell_type": "code",
      "source": [
        "ani5 = animate_contractions(visual_steps5)\n",
        "HTML(ani5.to_jshtml())  # Inline preview in Jupyter Notebook\n",
        "ani5.save(\"karger_contraction_livemocha_video.mp4\", writer='ffmpeg')"
      ],
      "metadata": {
        "id": "GlDqNX6q-uGb"
      },
      "execution_count": null,
      "outputs": []
    },
    {
      "cell_type": "markdown",
      "source": [
        "## 3d graph to visualize how number of nodes and edges affects the runtime"
      ],
      "metadata": {
        "id": "a-jYYrm3OFUv"
      }
    },
    {
      "cell_type": "code",
      "source": [
        "# Collect data\n",
        "runtimes = [runtime1, runtime2, runtime3, runtime4, runtime5] # Assuming runtime5 is for the 10k node LiveMocha graph\n",
        "nodes = [G.number_of_nodes(), G2.number_of_nodes(), G3.number_of_nodes(), G4.number_of_nodes(), G10k.number_of_nodes()]\n",
        "edges = [G.number_of_edges(), G2.number_of_edges(), G3.number_of_edges(), G4.number_of_edges(), G10k.number_of_edges()]\n",
        "dataset_names = ['BitcoinAlpha', 'BitcoinOTC', 'Advogato', 'Epinions', 'LiveMocha (10k Nodes)']\n",
        "\n",
        "# Create the 3D plot\n",
        "fig = plt.figure(figsize=(16, 12))\n",
        "ax = fig.add_subplot(111, projection='3d')\n",
        "\n",
        "# Plot the points\n",
        "ax.scatter(nodes, edges, runtimes, c=runtimes, cmap='viridis', marker='o', s=100)\n",
        "\n",
        "# Label the points\n",
        "for i in range(len(dataset_names)):\n",
        "    ax.text(nodes[i], edges[i], runtimes[i], dataset_names[i], zdir='z')\n",
        "\n",
        "# Connect the dots with lines (based on the order of the datasets)\n",
        "ax.plot(nodes, edges, runtimes, color='gray', linestyle='-', alpha=0.5)\n",
        "\n",
        "# Set labels and title\n",
        "ax.set_xlabel('Number of Nodes')\n",
        "ax.set_ylabel('Number of Edges')\n",
        "ax.set_zlabel('Runtime (seconds)')\n",
        "ax.set_title('Karger\\'s Algorithm Runtime vs. Graph Size (Nodes and Edges)')\n",
        "\n",
        "plt.show()\n"
      ],
      "metadata": {
        "id": "Mf3By4nwLezh"
      },
      "execution_count": null,
      "outputs": []
    },
    {
      "cell_type": "code",
      "source": [
        "datasets = ['BitcoinAlpha', 'BitcoinOTC', 'Advogato', 'Epinions', 'LiveMocha (10k Nodes)']\n",
        "runtimes_bar = [runtime1, runtime2, runtime3, runtime4, runtime5]\n",
        "\n",
        "plt.figure(figsize=(12, 8))\n",
        "plt.bar(datasets, runtimes_bar, color=['skyblue', 'lightgreen', 'salmon', 'gold', 'purple'])\n",
        "plt.ylabel('Runtime (seconds)')\n",
        "plt.title('Karger\\'s Algorithm Runtime for Different Datasets (1 Trial)')\n",
        "plt.xticks(rotation=45, ha='right')\n",
        "plt.tight_layout()\n",
        "plt.show()\n"
      ],
      "metadata": {
        "id": "MM57N71BSckO"
      },
      "execution_count": null,
      "outputs": []
    }
  ],
  "metadata": {
    "colab": {
      "provenance": []
    },
    "kernelspec": {
      "display_name": "Python 3",
      "name": "python3"
    },
    "language_info": {
      "name": "python"
    }
  },
  "nbformat": 4,
  "nbformat_minor": 0
}