{
  "nbformat": 4,
  "nbformat_minor": 0,
  "metadata": {
    "colab": {
      "provenance": []
    },
    "kernelspec": {
      "name": "python3",
      "display_name": "Python 3"
    },
    "language_info": {
      "name": "python"
    }
  },
  "cells": [
    {
      "cell_type": "markdown",
      "source": [
        "##Here we are standardizing the files so all of them have the same format start,target,weight\n",
        "\n",
        "Note: if weight wasnt stated we chose weight of 1 for all edges as the default weight"
      ],
      "metadata": {
        "id": "7gT3KiKJ5rVR"
      }
    },
    {
      "cell_type": "code",
      "execution_count": null,
      "metadata": {
        "id": "f5N93VJ4DIIT"
      },
      "outputs": [],
      "source": [
        "import pandas as pd\n",
        "\n",
        "def convert_to_standard_format(input_file, output_file, src_col, tgt_col, weight_col=None, delimiter=' '):\n",
        "    df = pd.read_csv(input_file, delimiter=delimiter, comment='#', header=None)\n",
        "    df = df[[src_col, tgt_col]] if weight_col is None else df[[src_col, tgt_col, weight_col]]\n",
        "    df.columns = ['source', 'target'] if weight_col is None else ['source', 'target', 'weight']\n",
        "\n",
        "    if weight_col is None:\n",
        "        df['weight'] = 1  # Assign uniform weight if not present\n",
        "\n",
        "    # Make it undirected: ensure source < target for consistency\n",
        "    df[['source', 'target']] = pd.DataFrame(\n",
        "        df[['source', 'target']].apply(lambda x: sorted(x), axis=1).tolist()\n",
        "    )\n",
        "\n",
        "    df = df.drop_duplicates()\n",
        "    df.to_csv(output_file, index=False)\n",
        "\n",
        "    print(f\"[✓] Converted and saved to {output_file}\")\n"
      ]
    },
    {
      "cell_type": "code",
      "source": [
        "convert_to_standard_format(\"soc-sign-bitcoinotc.edges\",\"soc-sign-bitcoinotc_cleaned.csv\",0,1,2,',')"
      ],
      "metadata": {
        "colab": {
          "base_uri": "https://localhost:8080/"
        },
        "id": "y-SK61HJEfwy",
        "outputId": "02d1224d-67d2-4a53-ba02-8789dadae15f"
      },
      "execution_count": null,
      "outputs": [
        {
          "output_type": "stream",
          "name": "stdout",
          "text": [
            "[✓] Converted and saved to soc-sign-bitcoinotc_cleaned.csv\n"
          ]
        }
      ]
    },
    {
      "cell_type": "code",
      "source": [
        "convert_to_standard_format(\"soc-sign-bitcoinalpha.edges\",\"soc-sign-bitcoinalpha_cleaned.csv\",0,1,2,',')"
      ],
      "metadata": {
        "colab": {
          "base_uri": "https://localhost:8080/"
        },
        "id": "Yx94gFG_EfuB",
        "outputId": "187fc893-c213-4e63-b5a0-e9c3290c1e6e"
      },
      "execution_count": null,
      "outputs": [
        {
          "output_type": "stream",
          "name": "stdout",
          "text": [
            "[✓] Converted and saved to soc-sign-bitcoinalpha_cleaned.csv\n"
          ]
        }
      ]
    },
    {
      "cell_type": "code",
      "source": [
        "convert_to_standard_format(\"epinions.txt\",\"soc-epinions_cleaned.csv\",0,1,None,' ')"
      ],
      "metadata": {
        "id": "bSSHQan5IikW",
        "colab": {
          "base_uri": "https://localhost:8080/"
        },
        "outputId": "7ea056ba-742c-405c-de22-086624fde1ea"
      },
      "execution_count": null,
      "outputs": [
        {
          "output_type": "stream",
          "name": "stdout",
          "text": [
            "[✓] Converted and saved to soc-epinions_cleaned.csv\n"
          ]
        }
      ]
    },
    {
      "cell_type": "code",
      "source": [
        "convert_to_standard_format(\"mocha.txt\",\"soc-livemocha_cleaned.csv\",0,1,None,' ')"
      ],
      "metadata": {
        "colab": {
          "base_uri": "https://localhost:8080/"
        },
        "id": "zPftmmM02b0l",
        "outputId": "f993c785-9e72-4a88-8985-01579e9bdb5f"
      },
      "execution_count": null,
      "outputs": [
        {
          "output_type": "stream",
          "name": "stdout",
          "text": [
            "[✓] Converted and saved to soc-livemocha_cleaned.csv\n"
          ]
        }
      ]
    }
  ]
}